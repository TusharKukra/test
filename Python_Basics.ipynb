{
  "nbformat": 4,
  "nbformat_minor": 0,
  "metadata": {
    "colab": {
      "name": "Copy of Python Basics",
      "provenance": [],
      "collapsed_sections": [],
      "include_colab_link": true
    },
    "kernelspec": {
      "name": "python3",
      "display_name": "Python 3"
    }
  },
  "cells": [
    {
      "cell_type": "markdown",
      "metadata": {
        "id": "view-in-github",
        "colab_type": "text"
      },
      "source": [
        "<a href=\"https://colab.research.google.com/github/TusharKukra/test/blob/master/Python_Basics.ipynb\" target=\"_parent\"><img src=\"https://colab.research.google.com/assets/colab-badge.svg\" alt=\"Open In Colab\"/></a>"
      ]
    },
    {
      "cell_type": "code",
      "metadata": {
        "id": "qBEpLATkIBdW",
        "colab": {
          "base_uri": "https://localhost:8080/"
        },
        "outputId": "ecb9c7c3-cb12-4024-9d5b-59b30b13f9b4"
      },
      "source": [
        "# shift + enter\n",
        "# comment\n",
        "\n",
        "print(\"hello Students\")"
      ],
      "execution_count": null,
      "outputs": [
        {
          "output_type": "stream",
          "text": [
            "hello Students\n"
          ],
          "name": "stdout"
        }
      ]
    },
    {
      "cell_type": "code",
      "metadata": {
        "id": "oSfVCvkaIaVg"
      },
      "source": [
        "#  creating variables\n",
        "n = 7"
      ],
      "execution_count": null,
      "outputs": []
    },
    {
      "cell_type": "code",
      "metadata": {
        "id": "IdABzqukIh2i",
        "colab": {
          "base_uri": "https://localhost:8080/"
        },
        "outputId": "ea200abd-6abc-4877-dc48-4321fb8ec2cb"
      },
      "source": [
        "print(n)"
      ],
      "execution_count": null,
      "outputs": [
        {
          "output_type": "stream",
          "text": [
            "7\n"
          ],
          "name": "stdout"
        }
      ]
    },
    {
      "cell_type": "code",
      "metadata": {
        "id": "XEg4M8hEIl-N",
        "colab": {
          "base_uri": "https://localhost:8080/"
        },
        "outputId": "7d4038e6-0cbc-4bb3-c1e0-fd1741b468f7"
      },
      "source": [
        "# it tells you the data type\n",
        "type(n)"
      ],
      "execution_count": null,
      "outputs": [
        {
          "output_type": "execute_result",
          "data": {
            "text/plain": [
              "int"
            ]
          },
          "metadata": {
            "tags": []
          },
          "execution_count": 5
        }
      ]
    },
    {
      "cell_type": "code",
      "metadata": {
        "id": "Mfh49N43Iwae",
        "colab": {
          "base_uri": "https://localhost:8080/"
        },
        "outputId": "55549596-5015-4b19-861a-67cf6a9d7f87"
      },
      "source": [
        "n = \"Hey\"\n",
        "print(n)\n",
        "print(type(n))"
      ],
      "execution_count": null,
      "outputs": [
        {
          "output_type": "stream",
          "text": [
            "Hey\n",
            "<class 'str'>\n"
          ],
          "name": "stdout"
        }
      ]
    },
    {
      "cell_type": "code",
      "metadata": {
        "id": "sr05mmuEqw5J",
        "colab": {
          "base_uri": "https://localhost:8080/"
        },
        "outputId": "8417a7f6-ca55-464a-947f-145242dee3a6"
      },
      "source": [
        "print(n)"
      ],
      "execution_count": null,
      "outputs": [
        {
          "output_type": "stream",
          "text": [
            "Hey\n"
          ],
          "name": "stdout"
        }
      ]
    },
    {
      "cell_type": "code",
      "metadata": {
        "id": "3_X41FtEI6fc",
        "colab": {
          "base_uri": "https://localhost:8080/"
        },
        "outputId": "1bf536f2-634b-42b7-d60b-348595dd28e2"
      },
      "source": [
        "i = 8\n",
        "\n",
        "if (i>=10):\n",
        "  print(\"number is greater than 10\")\n",
        "elif (i<5):\n",
        "  print(\"number is smaller than 5\")\n",
        "else:\n",
        "  print(\"number is between 5 and 10\")"
      ],
      "execution_count": null,
      "outputs": [
        {
          "output_type": "stream",
          "text": [
            "number is between 5 and 10\n"
          ],
          "name": "stdout"
        }
      ]
    },
    {
      "cell_type": "code",
      "metadata": {
        "colab": {
          "base_uri": "https://localhost:8080/"
        },
        "id": "Pqe0rnbjpJ5W",
        "outputId": "c93b878a-8fc5-4083-8cab-8b05b6026f83"
      },
      "source": [
        "# even or odd number\n",
        "num = 5\n",
        "\n",
        "if (num%2==0):\n",
        "    print(\"Even number\")\n",
        "else:\n",
        "    print(\"Odd number\")\n"
      ],
      "execution_count": null,
      "outputs": [
        {
          "output_type": "stream",
          "text": [
            "Odd number\n"
          ],
          "name": "stdout"
        }
      ]
    },
    {
      "cell_type": "code",
      "metadata": {
        "id": "uJFGYdc9JME7",
        "colab": {
          "base_uri": "https://localhost:8080/"
        },
        "outputId": "669bfab0-9eee-4454-d329-67805c4951da"
      },
      "source": [
        "i = 0\n",
        "\n",
        "while (i<10):\n",
        "  print(i)\n",
        "  i += 1"
      ],
      "execution_count": null,
      "outputs": [
        {
          "output_type": "stream",
          "text": [
            "0\n",
            "1\n",
            "2\n",
            "3\n",
            "4\n",
            "5\n",
            "6\n",
            "7\n",
            "8\n",
            "9\n"
          ],
          "name": "stdout"
        }
      ]
    },
    {
      "cell_type": "code",
      "metadata": {
        "id": "M3q-FZtPJtcu",
        "colab": {
          "base_uri": "https://localhost:8080/"
        },
        "outputId": "d2ebacc3-b11f-4775-fb78-506cfae2519c"
      },
      "source": [
        "for k in range(1, 21,1):\n",
        "  print(k)"
      ],
      "execution_count": null,
      "outputs": [
        {
          "output_type": "stream",
          "text": [
            "1\n",
            "2\n",
            "3\n",
            "4\n",
            "5\n",
            "6\n",
            "7\n",
            "8\n",
            "9\n",
            "10\n",
            "11\n",
            "12\n",
            "13\n",
            "14\n",
            "15\n",
            "16\n",
            "17\n",
            "18\n",
            "19\n",
            "20\n"
          ],
          "name": "stdout"
        }
      ]
    },
    {
      "cell_type": "code",
      "metadata": {
        "id": "nVzi4g44KG0R"
      },
      "source": [
        "# Function\n",
        "\n",
        "# return_type func_name(params){\n",
        "#     ...\n",
        "#     return something\n",
        "# }\n",
        "\n",
        "def greeter(name):\n",
        "  print(\"Hello \" + name)"
      ],
      "execution_count": null,
      "outputs": []
    },
    {
      "cell_type": "code",
      "metadata": {
        "id": "1wXNgqLWK6_i",
        "colab": {
          "base_uri": "https://localhost:8080/"
        },
        "outputId": "e2cb66bb-6336-4961-af6f-fddf994286d0"
      },
      "source": [
        "# function calling\n",
        "greeter(\"Students\")"
      ],
      "execution_count": null,
      "outputs": [
        {
          "output_type": "stream",
          "text": [
            "Hello Students\n"
          ],
          "name": "stdout"
        },
        {
          "output_type": "execute_result",
          "data": {
            "text/plain": [
              "10"
            ]
          },
          "metadata": {
            "tags": []
          },
          "execution_count": 22
        }
      ]
    },
    {
      "cell_type": "code",
      "metadata": {
        "id": "468Zg_rZq8Su"
      },
      "source": [
        "def factorial(n):\n",
        "    fact = 1\n",
        "    for i in range(1, n+1):\n",
        "        fact = fact * i\n",
        "\n",
        "    print(fact)"
      ],
      "execution_count": null,
      "outputs": []
    },
    {
      "cell_type": "code",
      "metadata": {
        "colab": {
          "base_uri": "https://localhost:8080/"
        },
        "id": "9wBXyIPSrqXR",
        "outputId": "b1106315-b0f9-4f29-b943-311efb0995e0"
      },
      "source": [
        "factorial(5)"
      ],
      "execution_count": null,
      "outputs": [
        {
          "output_type": "stream",
          "text": [
            "120\n"
          ],
          "name": "stdout"
        }
      ]
    },
    {
      "cell_type": "markdown",
      "metadata": {
        "id": "Kc0pxobXLRVu"
      },
      "source": [
        "# Data Structures in Python\n",
        " - List\n",
        " - tuples\n",
        " - set\n",
        " - dictionary"
      ]
    },
    {
      "cell_type": "code",
      "metadata": {
        "id": "_WvsVTwZtJRY"
      },
      "source": [
        ""
      ],
      "execution_count": null,
      "outputs": []
    },
    {
      "cell_type": "code",
      "metadata": {
        "id": "7RjSJuAlLCvr"
      },
      "source": [
        "li = [5,2,9,10,56,23]"
      ],
      "execution_count": null,
      "outputs": []
    },
    {
      "cell_type": "code",
      "metadata": {
        "id": "em3-BTx2L5oe",
        "colab": {
          "base_uri": "https://localhost:8080/"
        },
        "outputId": "811867ce-c166-4902-f40f-b60c1793813b"
      },
      "source": [
        "type(li)"
      ],
      "execution_count": null,
      "outputs": [
        {
          "output_type": "execute_result",
          "data": {
            "text/plain": [
              "list"
            ]
          },
          "metadata": {
            "tags": []
          },
          "execution_count": 31
        }
      ]
    },
    {
      "cell_type": "code",
      "metadata": {
        "id": "5VvpOJPbL7Lt",
        "colab": {
          "base_uri": "https://localhost:8080/"
        },
        "outputId": "d2e681a0-5c8c-4920-944e-977bd38c7325"
      },
      "source": [
        "print(li[0])\n",
        "print(li[1])\n",
        "print(li[-1]) # Negative Indexing\n",
        "print(li[-6])"
      ],
      "execution_count": null,
      "outputs": [
        {
          "output_type": "stream",
          "text": [
            "5\n",
            "2\n",
            "23\n",
            "5\n"
          ],
          "name": "stdout"
        }
      ]
    },
    {
      "cell_type": "code",
      "metadata": {
        "id": "Ow_q2Y5CMEUl",
        "colab": {
          "base_uri": "https://localhost:8080/"
        },
        "outputId": "767393ea-967d-44f5-c734-d0f27e20be38"
      },
      "source": [
        "# List slicing\n",
        "# li[start_index : end_index + 1 ]\n",
        "li[2 : 5]"
      ],
      "execution_count": null,
      "outputs": [
        {
          "output_type": "execute_result",
          "data": {
            "text/plain": [
              "[9, 10, 56]"
            ]
          },
          "metadata": {
            "tags": []
          },
          "execution_count": 33
        }
      ]
    },
    {
      "cell_type": "code",
      "metadata": {
        "id": "vW-L-cFVMfOH",
        "colab": {
          "base_uri": "https://localhost:8080/"
        },
        "outputId": "10be8005-d1ed-4a0d-fd93-51e30c25c6bc"
      },
      "source": [
        "li[ : 5]"
      ],
      "execution_count": null,
      "outputs": [
        {
          "output_type": "execute_result",
          "data": {
            "text/plain": [
              "[5, 2, 9, 10, 56]"
            ]
          },
          "metadata": {
            "tags": []
          },
          "execution_count": 34
        }
      ]
    },
    {
      "cell_type": "code",
      "metadata": {
        "id": "4n5188mjNCru",
        "colab": {
          "base_uri": "https://localhost:8080/"
        },
        "outputId": "35e17f96-cb26-49f8-a6b5-611a5b666dd3"
      },
      "source": [
        "li[-6 : 2]"
      ],
      "execution_count": null,
      "outputs": [
        {
          "output_type": "execute_result",
          "data": {
            "text/plain": [
              "[5, 2]"
            ]
          },
          "metadata": {
            "tags": []
          },
          "execution_count": 35
        }
      ]
    },
    {
      "cell_type": "code",
      "metadata": {
        "id": "qEdfi4wjvJFl",
        "colab": {
          "base_uri": "https://localhost:8080/"
        },
        "outputId": "93759f31-c4af-46ab-892e-4363533c210b"
      },
      "source": [
        "li[ : :-1 ]"
      ],
      "execution_count": null,
      "outputs": [
        {
          "output_type": "execute_result",
          "data": {
            "text/plain": [
              "[23, 56, 10, 9, 2, 5]"
            ]
          },
          "metadata": {
            "tags": []
          },
          "execution_count": 36
        }
      ]
    },
    {
      "cell_type": "code",
      "metadata": {
        "colab": {
          "base_uri": "https://localhost:8080/"
        },
        "id": "V8p3ysO-uvcN",
        "outputId": "157d6cea-a681-40df-ecc9-1c34416b8980"
      },
      "source": [
        "li"
      ],
      "execution_count": null,
      "outputs": [
        {
          "output_type": "execute_result",
          "data": {
            "text/plain": [
              "[5, 2, 9, 10, 56, 23]"
            ]
          },
          "metadata": {
            "tags": []
          },
          "execution_count": 37
        }
      ]
    },
    {
      "cell_type": "code",
      "metadata": {
        "id": "1VM63qcfN9Pb"
      },
      "source": [
        "li.append(100)"
      ],
      "execution_count": null,
      "outputs": []
    },
    {
      "cell_type": "code",
      "metadata": {
        "id": "Xh3AVOaXOBRL",
        "colab": {
          "base_uri": "https://localhost:8080/"
        },
        "outputId": "de2fbe4b-2132-4c93-9ab4-7e21f698a482"
      },
      "source": [
        "li"
      ],
      "execution_count": null,
      "outputs": [
        {
          "output_type": "execute_result",
          "data": {
            "text/plain": [
              "[5, 2, 9, 10, 56, 23, 100]"
            ]
          },
          "metadata": {
            "tags": []
          },
          "execution_count": 39
        }
      ]
    },
    {
      "cell_type": "code",
      "metadata": {
        "id": "rbDpq8SgOCZ6"
      },
      "source": [
        "li.sort(reverse=True)"
      ],
      "execution_count": null,
      "outputs": []
    },
    {
      "cell_type": "code",
      "metadata": {
        "id": "MEbBcNcFOHj-",
        "colab": {
          "base_uri": "https://localhost:8080/"
        },
        "outputId": "a90f434b-3962-4636-8aa5-cd857b0bf237"
      },
      "source": [
        "li"
      ],
      "execution_count": null,
      "outputs": [
        {
          "output_type": "execute_result",
          "data": {
            "text/plain": [
              "[100, 56, 23, 10, 9, 5, 2]"
            ]
          },
          "metadata": {
            "tags": []
          },
          "execution_count": 44
        }
      ]
    },
    {
      "cell_type": "code",
      "metadata": {
        "id": "b40QeUMjOINn"
      },
      "source": [
        "# heterogenous elements\n",
        "li2 = [5,2,9,10, \"Hello World\", True, 6.4, 9.0, [1,2,3], 33, 11]"
      ],
      "execution_count": null,
      "outputs": []
    },
    {
      "cell_type": "code",
      "metadata": {
        "id": "G5Z70UwiObbc",
        "colab": {
          "base_uri": "https://localhost:8080/"
        },
        "outputId": "6596d026-c784-49e2-b01d-fbfee6169934"
      },
      "source": [
        "li2"
      ],
      "execution_count": null,
      "outputs": [
        {
          "output_type": "execute_result",
          "data": {
            "text/plain": [
              "[5, 2, 9, 10, 'Hello World', True, 6.4, 9.0, [1, 2, 3], 33, 11]"
            ]
          },
          "metadata": {
            "tags": []
          },
          "execution_count": 46
        }
      ]
    },
    {
      "cell_type": "code",
      "metadata": {
        "id": "lpxUVmWvviMa",
        "colab": {
          "base_uri": "https://localhost:8080/"
        },
        "outputId": "23697bdf-d423-44c8-ff48-f641b17b2506"
      },
      "source": [
        "for harsh in li2:\n",
        "  print(type(harsh))\n",
        "  print(harsh)"
      ],
      "execution_count": null,
      "outputs": [
        {
          "output_type": "stream",
          "text": [
            "<class 'int'>\n",
            "5\n",
            "<class 'int'>\n",
            "2\n",
            "<class 'int'>\n",
            "9\n",
            "<class 'int'>\n",
            "10\n",
            "<class 'str'>\n",
            "Hello World\n",
            "<class 'bool'>\n",
            "True\n",
            "<class 'float'>\n",
            "6.4\n",
            "<class 'float'>\n",
            "9.0\n",
            "<class 'list'>\n",
            "[1, 2, 3]\n",
            "<class 'int'>\n",
            "33\n",
            "<class 'int'>\n",
            "11\n"
          ],
          "name": "stdout"
        }
      ]
    },
    {
      "cell_type": "code",
      "metadata": {
        "id": "xPC_8P-awGlF"
      },
      "source": [
        "# change elements\n",
        "li2[0] = 50"
      ],
      "execution_count": null,
      "outputs": []
    },
    {
      "cell_type": "code",
      "metadata": {
        "colab": {
          "base_uri": "https://localhost:8080/"
        },
        "id": "WHWqxOHYwMcu",
        "outputId": "c57d4168-54f4-483c-abf8-1ffa0326e1c5"
      },
      "source": [
        "li2"
      ],
      "execution_count": null,
      "outputs": [
        {
          "output_type": "execute_result",
          "data": {
            "text/plain": [
              "[50, 2, 9, 10, 'Hello World', True, 6.4, 9.0, [1, 2, 3], 33, 11]"
            ]
          },
          "metadata": {
            "tags": []
          },
          "execution_count": 51
        }
      ]
    },
    {
      "cell_type": "code",
      "metadata": {
        "id": "GQ6WKX0ywQkJ"
      },
      "source": [
        "######## TUPLES ########"
      ],
      "execution_count": null,
      "outputs": []
    },
    {
      "cell_type": "code",
      "metadata": {
        "id": "VA9q7jWSOctt"
      },
      "source": [
        "tup = (5,6,8,1,10)"
      ],
      "execution_count": null,
      "outputs": []
    },
    {
      "cell_type": "code",
      "metadata": {
        "id": "lUJCoJBzOpei",
        "colab": {
          "base_uri": "https://localhost:8080/"
        },
        "outputId": "b0d24389-9cd0-4f2c-e3c5-f0f90d1865fd"
      },
      "source": [
        "type(tup)"
      ],
      "execution_count": null,
      "outputs": [
        {
          "output_type": "execute_result",
          "data": {
            "text/plain": [
              "tuple"
            ]
          },
          "metadata": {
            "tags": []
          },
          "execution_count": 53
        }
      ]
    },
    {
      "cell_type": "code",
      "metadata": {
        "id": "QrKyaYvdwGIS",
        "colab": {
          "base_uri": "https://localhost:8080/"
        },
        "outputId": "a70f217c-b0ac-43f1-81f0-707b0312ad88"
      },
      "source": [
        "tup"
      ],
      "execution_count": null,
      "outputs": [
        {
          "output_type": "execute_result",
          "data": {
            "text/plain": [
              "(5, 6, 8, 1, 10)"
            ]
          },
          "metadata": {
            "tags": []
          },
          "execution_count": 54
        }
      ]
    },
    {
      "cell_type": "code",
      "metadata": {
        "id": "8EZIbA_vwHaU",
        "colab": {
          "base_uri": "https://localhost:8080/"
        },
        "outputId": "bb799bd0-1cd3-41cc-89bb-850b0c2ee0f7"
      },
      "source": [
        "tup[-1]"
      ],
      "execution_count": null,
      "outputs": [
        {
          "output_type": "execute_result",
          "data": {
            "text/plain": [
              "10"
            ]
          },
          "metadata": {
            "tags": []
          },
          "execution_count": 56
        }
      ]
    },
    {
      "cell_type": "code",
      "metadata": {
        "id": "QgNw8DT6O1-E",
        "colab": {
          "base_uri": "https://localhost:8080/",
          "height": 181
        },
        "outputId": "480fb161-eb56-4719-d855-9404e420929e"
      },
      "source": [
        "# not able change\n",
        "tup[0] = 50"
      ],
      "execution_count": null,
      "outputs": [
        {
          "output_type": "error",
          "ename": "TypeError",
          "evalue": "ignored",
          "traceback": [
            "\u001b[0;31m---------------------------------------------------------------------------\u001b[0m",
            "\u001b[0;31mTypeError\u001b[0m                                 Traceback (most recent call last)",
            "\u001b[0;32m<ipython-input-57-61afc6a1d92f>\u001b[0m in \u001b[0;36m<module>\u001b[0;34m()\u001b[0m\n\u001b[1;32m      1\u001b[0m \u001b[0;31m# not able change\u001b[0m\u001b[0;34m\u001b[0m\u001b[0;34m\u001b[0m\u001b[0;34m\u001b[0m\u001b[0m\n\u001b[0;32m----> 2\u001b[0;31m \u001b[0mtup\u001b[0m\u001b[0;34m[\u001b[0m\u001b[0;36m0\u001b[0m\u001b[0;34m]\u001b[0m \u001b[0;34m=\u001b[0m \u001b[0;36m50\u001b[0m\u001b[0;34m\u001b[0m\u001b[0;34m\u001b[0m\u001b[0m\n\u001b[0m",
            "\u001b[0;31mTypeError\u001b[0m: 'tuple' object does not support item assignment"
          ]
        }
      ]
    },
    {
      "cell_type": "code",
      "metadata": {
        "id": "dG0PR31aO88h"
      },
      "source": [
        ""
      ],
      "execution_count": null,
      "outputs": []
    }
  ]
}